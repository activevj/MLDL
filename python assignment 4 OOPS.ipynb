{
 "cells": [
  {
   "cell_type": "code",
   "execution_count": 48,
   "id": "4719bc66",
   "metadata": {},
   "outputs": [],
   "source": [
    "#1.1\n",
    "class Triangle:\n",
    "    def enter_sides(self):\n",
    "        print(\"Enter the first side of triangle\")\n",
    "        self.a=int(input())\n",
    "        print(\"Enter the second side of triangle\")\n",
    "        self.b=int(input())\n",
    "        print(\"Enter the third side of triangle\")\n",
    "        self.c=int(input())\n",
    "\n",
    "class Area(Triangle):\n",
    "    def Tot_Area(self):\n",
    "        self.enter_sides()\n",
    "        return self.a*self.b*self.c\n",
    "        "
   ]
  },
  {
   "cell_type": "code",
   "execution_count": 49,
   "id": "0c27ffe9",
   "metadata": {},
   "outputs": [],
   "source": [
    "c=Area()"
   ]
  },
  {
   "cell_type": "code",
   "execution_count": 51,
   "id": "ecf426a7",
   "metadata": {},
   "outputs": [
    {
     "name": "stdout",
     "output_type": "stream",
     "text": [
      "Enter the first side of triangle\n",
      "6\n",
      "Enter the second side of triangle\n",
      "8\n",
      "Enter the third side of triangle\n",
      "9\n"
     ]
    },
    {
     "data": {
      "text/plain": [
       "432"
      ]
     },
     "execution_count": 51,
     "metadata": {},
     "output_type": "execute_result"
    }
   ],
   "source": [
    "c.Tot_Area()"
   ]
  },
  {
   "cell_type": "code",
   "execution_count": null,
   "id": "ca0bf819",
   "metadata": {},
   "outputs": [],
   "source": []
  },
  {
   "cell_type": "code",
   "execution_count": 53,
   "id": "c4fdde60",
   "metadata": {},
   "outputs": [],
   "source": [
    "#1.2 Write a function filter_long_words() that takes a list of words and an integer n and returns\n",
    "#the list of words that are longer than n.'''\n",
    "def filter_long_words(words,n):\n",
    "    ans=[]\n",
    "    for word in words:\n",
    "        if len(word)>n:\n",
    "            ans.append(word)\n",
    "    return ans"
   ]
  },
  {
   "cell_type": "code",
   "execution_count": 54,
   "id": "f35de54a",
   "metadata": {},
   "outputs": [],
   "source": [
    "string=\"what can i say this is a long paraphrase and i am thinking that this is going to be a huge even\""
   ]
  },
  {
   "cell_type": "code",
   "execution_count": 55,
   "id": "65764b16",
   "metadata": {},
   "outputs": [],
   "source": [
    "lists=string.split()"
   ]
  },
  {
   "cell_type": "code",
   "execution_count": 56,
   "id": "addd41fc",
   "metadata": {},
   "outputs": [
    {
     "name": "stdout",
     "output_type": "stream",
     "text": [
      "['what', 'can', 'i', 'say', 'this', 'is', 'a', 'long', 'paraphrase', 'and', 'i', 'am', 'thinking', 'that', 'this', 'is', 'going', 'to', 'be', 'a', 'huge', 'even']\n"
     ]
    }
   ],
   "source": [
    "print(lists)"
   ]
  },
  {
   "cell_type": "code",
   "execution_count": 57,
   "id": "0b414368",
   "metadata": {},
   "outputs": [
    {
     "data": {
      "text/plain": [
       "['paraphrase', 'thinking', 'going']"
      ]
     },
     "execution_count": 57,
     "metadata": {},
     "output_type": "execute_result"
    }
   ],
   "source": [
    "filter_long_words(lists,4)"
   ]
  },
  {
   "cell_type": "code",
   "execution_count": null,
   "id": "879c67df",
   "metadata": {},
   "outputs": [],
   "source": []
  },
  {
   "cell_type": "code",
   "execution_count": 59,
   "id": "0876e9bc",
   "metadata": {},
   "outputs": [],
   "source": [
    "# 2.1 Write a Python program using function concept that maps list of words into a list of integers\n",
    "# representing the lengths of the corresponding words.\n",
    "# Hint: If a list [ ab,cde,erty] is passed on to the python function output should come as [2,3,4]\n",
    "# Here 2,3 and 4 are the lengths of the words in the list."
   ]
  },
  {
   "cell_type": "code",
   "execution_count": 64,
   "id": "a8ef39e2",
   "metadata": {},
   "outputs": [],
   "source": [
    "def len_of_words(words):\n",
    "    ans=[]\n",
    "    for word in words:\n",
    "        ans.append(len(word))\n",
    "    return ans"
   ]
  },
  {
   "cell_type": "code",
   "execution_count": 65,
   "id": "91b3f9c9",
   "metadata": {},
   "outputs": [
    {
     "data": {
      "text/plain": [
       "[3, 3, 4]"
      ]
     },
     "execution_count": 65,
     "metadata": {},
     "output_type": "execute_result"
    }
   ],
   "source": [
    "len_of_words(['aab','cde','erty'])"
   ]
  },
  {
   "cell_type": "code",
   "execution_count": null,
   "id": "3743ef52",
   "metadata": {},
   "outputs": [],
   "source": [
    "# 2.2 Write a Python function which takes a character (i.e. a string of length 1) and returns True if\n",
    "# it is a vowel, False otherwise."
   ]
  },
  {
   "cell_type": "code",
   "execution_count": 67,
   "id": "e3a8527b",
   "metadata": {},
   "outputs": [],
   "source": [
    "def is_vowel(char):\n",
    "    v=['a','e','i','o','u']\n",
    "    if char in v:\n",
    "        return True\n",
    "    else:\n",
    "        return False"
   ]
  },
  {
   "cell_type": "code",
   "execution_count": 69,
   "id": "784d52d4",
   "metadata": {},
   "outputs": [
    {
     "data": {
      "text/plain": [
       "False"
      ]
     },
     "execution_count": 69,
     "metadata": {},
     "output_type": "execute_result"
    }
   ],
   "source": [
    "is_vowel('d')"
   ]
  },
  {
   "cell_type": "code",
   "execution_count": null,
   "id": "67972d2b",
   "metadata": {},
   "outputs": [],
   "source": []
  }
 ],
 "metadata": {
  "kernelspec": {
   "display_name": "Python 3",
   "language": "python",
   "name": "python3"
  },
  "language_info": {
   "codemirror_mode": {
    "name": "ipython",
    "version": 3
   },
   "file_extension": ".py",
   "mimetype": "text/x-python",
   "name": "python",
   "nbconvert_exporter": "python",
   "pygments_lexer": "ipython3",
   "version": "3.8.8"
  }
 },
 "nbformat": 4,
 "nbformat_minor": 5
}
